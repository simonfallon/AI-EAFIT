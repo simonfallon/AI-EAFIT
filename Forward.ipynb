{
 "cells": [
  {
   "cell_type": "code",
   "execution_count": 1,
   "metadata": {},
   "outputs": [],
   "source": [
    "# import numpy\n",
    "import numpy as np"
   ]
  },
  {
   "cell_type": "code",
   "execution_count": 11,
   "metadata": {},
   "outputs": [
    {
     "data": {
      "image/png": "[encoded data removed]",
      "text/plain": [
       "<Figure size 432x288 with 1 Axes>"
      ]
     },
     "metadata": {
      "needs_background": "light"
     },
     "output_type": "display_data"
    },
    {
     "name": "stdout",
     "output_type": "stream",
     "text": [
      "[[0.50117478]\n",
      " [0.5012406 ]\n",
      " [0.50124242]\n",
      " [0.50129607]]\n"
     ]
    }
   ],
   "source": [
    "# create input vector X of size 2\n",
    "X = np.array([[0, 0], [0, 1], [1, 0], [1, 1]])\n",
    "Y = np.array([[0], [1], [1], [0]])\n",
    "\n",
    "# create weight matrix Wi of size 2x2\n",
    "Wi = np.random.rand(2, 2)         # Input layer\n",
    "\n",
    "# create weight matrix Wj, Wk of size 2x1\n",
    "Wj = np.random.rand(2, 1)               # Hidden layer\n",
    "Wk = np.random.rand(1, 1)                # Output layer\n",
    "\n",
    "# group all weight matrices in a list\n",
    "W = [Wi, Wj, Wk]\n",
    "\n",
    "def sigmoid(x):\n",
    "    return 1 / (1 + np.exp(-x))\n",
    "\n",
    "def der_sigmoid(x):\n",
    "    return sigmoid(x) * (1 - sigmoid(x))\n",
    "\n",
    "def forward(X, W, Y):\n",
    "    Ys, Vs = [], []\n",
    "    for w in W:\n",
    "        Ys.append(X)\n",
    "        V = np.dot(X, w)\n",
    "        Vs.append(V)\n",
    "        X = sigmoid(V)\n",
    "    return X, Ys, Vs\n",
    "\n",
    "Dks, eks = [], []\n",
    "for i in range(300):\n",
    "    Ye, Ys, Vs = forward(X, W, Y)\n",
    "    ek = Ye - Y\n",
    "    DW = -ek * der_sigmoid(Vs[-1]) * Ys[-1]\n",
    "    Dk = np.mean(DW)\n",
    "    W[-1] = W[-1] + Dk\n",
    "    Dks.append(Dk)\n",
    "    eks.append(np.mean(ek * ek / 2))\n",
    "\n",
    "# plot Dks\n",
    "import matplotlib.pyplot as plt\n",
    "plt.plot(Dks)\n",
    "plt.plot(eks)\n",
    "# plot legend and show plot\n",
    "plt.legend(['Dk', 'ek'])\n",
    "# set X axis title to Epochs\n",
    "plt.xlabel('Epochs')\n",
    "plt.show()\n",
    "print(Ye)"
   ]
  }
 ],
 "metadata": {
  "kernelspec": {
   "display_name": "Python 3",
   "language": "python",
   "name": "python3"
  },
  "language_info": {
   "codemirror_mode": {
    "name": "ipython",
    "version": 3
   },
   "file_extension": ".py",
   "mimetype": "text/x-python",
   "name": "python",
   "nbconvert_exporter": "python",
   "pygments_lexer": "ipython3",
   "version": "3.10.4"
  },
  "orig_nbformat": 4,
  "vscode": {
   "interpreter": {
    "hash": "7101ca937a6cefa303d920fd1335fe82956cc294edbf5f7bc268a5a56c54bb64"
   }
  }
 },
 "nbformat": 4,
 "nbformat_minor": 2
}
