{
 "cells": [
  {
   "cell_type": "code",
   "execution_count": 4,
   "metadata": {},
   "outputs": [],
   "source": [
    "# import numpy\n",
    "import numpy as np"
   ]
  },
  {
   "cell_type": "code",
   "execution_count": 11,
   "metadata": {},
   "outputs": [
    {
     "name": "stdout",
     "output_type": "stream",
     "text": [
      "[4.]\n"
     ]
    }
   ],
   "source": [
    "# create input vector X of size 2\n",
    "X = np.array([1, 1])\n",
    "\n",
    "# create weight matrix Wi, Wj of size 2x2\n",
    "Wi = np.array([[1, 1], [1, 1]])     # Input layer\n",
    "Wj = np.array([[1, 1], [1, 1]])     # Hidden layer\n",
    "\n",
    "# create weight matrix Wk of size 2x1\n",
    "Wk = np.array([[1], [1]])           # Output layer\n",
    "\n",
    "# group all weight matrices in a list\n",
    "W = [Wi, Wj, Wk]\n",
    "\n",
    "def sigmoid(x):\n",
    "    return 1 / (1 + np.exp(-x))\n",
    "\n",
    "def forward(X, W):\n",
    "    for w in W:\n",
    "        X = sigmoid(np.dot(X, w))\n",
    "    return X\n",
    "\n",
    "print(forward(X, W))"
   ]
  }
 ],
 "metadata": {
  "kernelspec": {
   "display_name": "Python 3",
   "language": "python",
   "name": "python3"
  },
  "language_info": {
   "codemirror_mode": {
    "name": "ipython",
    "version": 3
   },
   "file_extension": ".py",
   "mimetype": "text/x-python",
   "name": "python",
   "nbconvert_exporter": "python",
   "pygments_lexer": "ipython3",
   "version": "3.10.4"
  },
  "orig_nbformat": 4,
  "vscode": {
   "interpreter": {
    "hash": "7101ca937a6cefa303d920fd1335fe82956cc294edbf5f7bc268a5a56c54bb64"
   }
  }
 },
 "nbformat": 4,
 "nbformat_minor": 2
}
